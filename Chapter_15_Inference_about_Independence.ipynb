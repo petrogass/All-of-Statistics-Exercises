{
  "nbformat": 4,
  "nbformat_minor": 0,
  "metadata": {
    "colab": {
      "provenance": []
    },
    "kernelspec": {
      "name": "python3",
      "display_name": "Python 3"
    },
    "language_info": {
      "name": "python"
    }
  },
  "cells": [
    {
      "cell_type": "code",
      "execution_count": null,
      "metadata": {
        "id": "tkL7r8kn6M6Q"
      },
      "outputs": [],
      "source": [
        "import numpy as np\n",
        "\n",
        "X_ij = np.array([[14, 641], [62, 594]])"
      ]
    }
  ]
}