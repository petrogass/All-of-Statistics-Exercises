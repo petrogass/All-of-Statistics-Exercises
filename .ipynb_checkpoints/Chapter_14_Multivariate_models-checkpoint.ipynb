{
 "cells": [
  {
   "cell_type": "code",
   "execution_count": null,
   "metadata": {
    "id": "aBpF5pjH3SBx"
   },
   "outputs": [],
   "source": [
    "import numpy as np\n",
    "import matplotlib.pyplot as plt"
   ]
  },
  {
   "cell_type": "markdown",
   "metadata": {
    "id": "GplczXID3OHM"
   },
   "source": [
    "Exercise 3\n",
    "\n"
   ]
  },
  {
   "cell_type": "code",
   "execution_count": null,
   "metadata": {
    "id": "rIdk6GMr0mCP"
   },
   "outputs": [],
   "source": [
    "def generate_multinomial(n, p, nsim):\n",
    "\n",
    "    observations = np.random.multinomial(n, p, size=nsim)\n",
    "    return observations\n",
    "\n",
    "def plot_multinomial(n, p, nsim):  \n",
    "    obs = generate_multinomial(n, p, nsim)\n",
    "    num_outcomes = len(p)\n",
    "    \n",
    "    fig, ax = plt.subplots(figsize=(10, 6))\n",
    "    plt.hist(obs[:, 0], density=True, bins=25, histtype='step', color='red', label=f'p ={p[0]}')\n",
    "    plt.hist(obs[:, 1], density=True, bins=25, histtype='step', color='green', label=f'p ={p[1]}')\n",
    "    plt.hist(obs[:, 2], density=True, bins=25, histtype='step', color='blue', label=f'p ={p[2]}')  \n",
    "    ax.legend()\n",
    "\n",
    "    \n",
    "    plt.show()\n",
    "\n",
    "n = 500\n",
    "p = [0.2, 0.3, 0.5]\n",
    "nsim = 1000\n",
    "plot_multinomial(n, p, nsim)"
   ]
  },
  {
   "cell_type": "markdown",
   "metadata": {
    "id": "GplczXID3OHM"
   },
   "source": [
    "Exercise 4\n",
    "\n"
   ]
  },
  {
   "cell_type": "code",
   "execution_count": null,
   "metadata": {},
   "outputs": [],
   "source": [
    "def generate_multivariate_normal(mu, cov, nsim):  \n",
    "    mu = np.array(mu)\n",
    "    cov = np.array(cov)    \n",
    "    observations = np.random.multivariate_normal(mu, cov, nsim)\n",
    "    return observations\n",
    "\n",
    "def plot_multivariate_normal(data):\n",
    "    x = data[:, 0]\n",
    "    y = data[:, 1]\n",
    "\n",
    "    plt.figure(figsize=(8, 6))\n",
    "    plt.scatter(x, y, alpha=0.6)\n",
    "    plt.title('Multivariate Normal Distribution')\n",
    "    plt.xlabel('X')\n",
    "    plt.ylabel('Y')\n",
    "    plt.axis('square')\n",
    "    plt.grid(True)\n",
    "    plt.show()\n",
    "\n",
    "\n",
    "mean_vector = [0, 1]  \n",
    "covariance_matrix = [[1, 0.5], [0.5, 2]]  \n",
    "num_simulations = 5000\n",
    "\n",
    "generated_data = generate_multivariate_normal(mean_vector, covariance_matrix, num_simulations)\n",
    "print(\"Generated data shape:\", generated_data.shape)\n",
    "\n",
    "plot_multivariate_normal(generated_data)\n"
   ]
  }
 ],
 "metadata": {
  "colab": {
   "provenance": []
  },
  "kernelspec": {
   "display_name": "Python 3 (ipykernel)",
   "language": "python",
   "name": "python3"
  },
  "language_info": {
   "codemirror_mode": {
    "name": "ipython",
    "version": 3
   },
   "file_extension": ".py",
   "mimetype": "text/x-python",
   "name": "python",
   "nbconvert_exporter": "python",
   "pygments_lexer": "ipython3",
   "version": "3.12.2"
  }
 },
 "nbformat": 4,
 "nbformat_minor": 4
}
