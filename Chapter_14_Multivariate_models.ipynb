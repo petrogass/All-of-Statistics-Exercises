{
  "nbformat": 4,
  "nbformat_minor": 0,
  "metadata": {
    "colab": {
      "provenance": []
    },
    "kernelspec": {
      "name": "python3",
      "display_name": "Python 3"
    },
    "language_info": {
      "name": "python"
    }
  },
  "cells": [
    {
      "cell_type": "code",
      "source": [
        "import numpy as np\n",
        "import matplotlib.pyplot as plt"
      ],
      "metadata": {
        "id": "aBpF5pjH3SBx"
      },
      "execution_count": null,
      "outputs": []
    },
    {
      "cell_type": "markdown",
      "source": [
        "Exercise 3\n",
        "\n"
      ],
      "metadata": {
        "id": "GplczXID3OHM"
      }
    },
    {
      "cell_type": "code",
      "execution_count": null,
      "metadata": {
        "id": "rIdk6GMr0mCP"
      },
      "outputs": [],
      "source": [
        "def generate_multinomial(n, p, nsim):\n",
        "\n",
        "    observations = np.random.multinomial(n, p, size=nsim)\n",
        "    return observations\n",
        "\n",
        "def plot_multinomial(n, p, nsim):\n",
        "    observations = generate_multinomial(n, p, nsim)\n",
        "    num_outcomes = len(p)\n",
        "\n",
        "    fig, ax = plt.subplots(figsize=(10, 6))\n",
        "    index = np.arange(num_outcomes)\n",
        "    bar_width = 0.35\n",
        "\n",
        "    for i in range(nsim):\n",
        "        ax.bar(index + i * bar_width / nsim, observations[i], bar_width / nsim, label=f'Simulation {i+1}')\n",
        "\n",
        "    ax.set_xlabel('Outcomes')\n",
        "    ax.set_ylabel('Counts')\n",
        "    ax.set_title('Multinomial Distribution')\n",
        "    ax.set_xticks(index + bar_width / 2)\n",
        "    ax.set_xticklabels(np.arange(1, num_outcomes + 1))\n",
        "    ax.legend()\n",
        "\n",
        "    plt.tight_layout()\n",
        "    plt.show()\n",
        "\n",
        "# Example usage:\n",
        "n = 20\n",
        "p = [0.2, 0.3, 0.5]\n",
        "nsim = 5\n",
        "plot_multinomial(n, p, nsim)"
      ]
    }
  ]
}