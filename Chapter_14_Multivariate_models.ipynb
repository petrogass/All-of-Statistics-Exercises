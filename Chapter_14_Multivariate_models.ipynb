{
 "cells": [
  {
   "cell_type": "code",
   "execution_count": null,
   "metadata": {
    "id": "aBpF5pjH3SBx"
   },
   "outputs": [],
   "source": [
    "import numpy as np\n",
    "import matplotlib.pyplot as plt"
   ]
  },
  {
   "cell_type": "markdown",
   "metadata": {
    "id": "GplczXID3OHM"
   },
   "source": [
    "Exercise 3\n",
    "\n"
   ]
  },
  {
   "cell_type": "code",
   "execution_count": null,
   "metadata": {
    "id": "rIdk6GMr0mCP"
   },
   "outputs": [],
   "source": [
    "def generate_multinomial(n, p, nsim):\n",
    "\n",
    "    observations = np.random.multinomial(n, p, size=nsim)\n",
    "    return observations\n",
    "\n",
    "def plot_multinomial(n, p, nsim):  \n",
    "    obs = generate_multinomial(n, p, nsim)\n",
    "    num_outcomes = len(p)\n",
    "    \n",
    "    fig, ax = plt.subplots(figsize=(10, 6))\n",
    "    plt.hist(obs[:, 0], density=True, bins=25, histtype='step', color='red', label=f'p ={p[0]}')\n",
    "    plt.hist(obs[:, 1], density=True, bins=25, histtype='step', color='green', label=f'p ={p[1]}')\n",
    "    plt.hist(obs[:, 2], density=True, bins=25, histtype='step', color='blue', label=f'p ={p[2]}')  \n",
    "    ax.legend()\n",
    "\n",
    "    \n",
    "    plt.show()\n",
    "\n",
    "n = 500\n",
    "p = [0.2, 0.3, 0.5]\n",
    "nsim = 1000\n",
    "plot_multinomial(n, p, nsim)"
   ]
  }
 ],
 "metadata": {
  "colab": {
   "provenance": []
  },
  "kernelspec": {
   "display_name": "Python 3 (ipykernel)",
   "language": "python",
   "name": "python3"
  },
  "language_info": {
   "codemirror_mode": {
    "name": "ipython",
    "version": 3
   },
   "file_extension": ".py",
   "mimetype": "text/x-python",
   "name": "python",
   "nbconvert_exporter": "python",
   "pygments_lexer": "ipython3",
   "version": "3.12.2"
  }
 },
 "nbformat": 4,
 "nbformat_minor": 4
}
